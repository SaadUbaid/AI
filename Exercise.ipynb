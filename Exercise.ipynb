{
  "nbformat": 4,
  "nbformat_minor": 0,
  "metadata": {
    "colab": {
      "provenance": [],
      "authorship_tag": "ABX9TyNPKJ/XzFhhBaryVWQW56sK",
      "include_colab_link": true
    },
    "kernelspec": {
      "name": "python3",
      "display_name": "Python 3"
    },
    "language_info": {
      "name": "python"
    }
  },
  "cells": [
    {
      "cell_type": "markdown",
      "metadata": {
        "id": "view-in-github",
        "colab_type": "text"
      },
      "source": [
        "<a href=\"https://colab.research.google.com/github/SaadUbaid/AI/blob/main/Exercise.ipynb\" target=\"_parent\"><img src=\"https://colab.research.google.com/assets/colab-badge.svg\" alt=\"Open In Colab\"/></a>"
      ]
    },
    {
      "cell_type": "markdown",
      "source": [
        "Ques 1"
      ],
      "metadata": {
        "id": "bHc1H3pn_rvF"
      }
    },
    {
      "cell_type": "code",
      "source": [
        "#write a function to check if a number is even or odd.\n",
        "def is_even_or_odd(number):\n",
        "    if number % 2 == 0:\n",
        "        return \"Even\"\n",
        "    else:\n",
        "        return \"Odd\""
      ],
      "metadata": {
        "id": "tAkh5NFa-ITe"
      },
      "execution_count": 5,
      "outputs": []
    },
    {
      "cell_type": "markdown",
      "source": [
        "QUestion 2"
      ],
      "metadata": {
        "id": "RqzyyvFP_1LU"
      }
    },
    {
      "cell_type": "code",
      "source": [
        "#Count how many vowels are in a given string.\n",
        "def count_vowels(s):\n",
        "    vowels = 'aeiouAEIOU'\n",
        "    count = 0\n",
        "    for char in s:\n",
        "        if char in vowels:\n",
        "            count += 1\n",
        "    return count"
      ],
      "metadata": {
        "id": "mGZlk5el-Xsp"
      },
      "execution_count": 6,
      "outputs": []
    },
    {
      "cell_type": "markdown",
      "source": [
        "question 3\n"
      ],
      "metadata": {
        "id": "qM-R2CeM_3ns"
      }
    },
    {
      "cell_type": "code",
      "source": [
        "# Write a function that returns the factorial of a number.\n",
        "def factorial(n):\n",
        "    if n < 0:\n",
        "        raise ValueError(\"Factorial is not defined for negative numbers\")\n",
        "    elif n == 0 or n == 1:\n",
        "        return 1\n",
        "    else:\n",
        "        result = 1\n",
        "        for i in range(2, n + 1):\n",
        "            result *= i\n",
        "        return result"
      ],
      "metadata": {
        "id": "R64Qk14V-vTx"
      },
      "execution_count": 8,
      "outputs": []
    },
    {
      "cell_type": "markdown",
      "source": [
        "Question 4"
      ],
      "metadata": {
        "id": "idGWLCOm_68r"
      }
    },
    {
      "cell_type": "code",
      "source": [
        "#Create a function that reverses a string.\n",
        "def reverse_string(s):\n",
        "    if not isinstance(s, str):\n",
        "         print(\"Input must be a string\")\n",
        "    return s[::-1]"
      ],
      "metadata": {
        "id": "la1FUacT_D91"
      },
      "execution_count": 11,
      "outputs": []
    },
    {
      "cell_type": "markdown",
      "source": [
        "questioon 5"
      ],
      "metadata": {
        "id": "mBwUoLEy_9t4"
      }
    },
    {
      "cell_type": "code",
      "source": [
        "#Create a dictionary of squares for numbers from 1 to 10.\n",
        "squares = {i: i**2 for i in range(1, 11)}\n",
        "print(squares)"
      ],
      "metadata": {
        "id": "G29uZGkBAAoe"
      },
      "execution_count": null,
      "outputs": []
    },
    {
      "cell_type": "markdown",
      "source": [
        "question 6"
      ],
      "metadata": {
        "id": "Ws22uQJxAiL2"
      }
    },
    {
      "cell_type": "code",
      "source": [
        "#Check if a string is a palindrome.\n",
        "def is_palindrome(s):\n",
        "    # Remove spaces and convert to lowercase\n",
        "    s = s.replace(\" \", \"\").lower()\n",
        "    # Check if the string is equal to its reverse\n",
        "    return s == s[::-1]"
      ],
      "metadata": {
        "id": "ZQF7FvCIAkZl"
      },
      "execution_count": null,
      "outputs": []
    },
    {
      "cell_type": "markdown",
      "source": [
        "question 7"
      ],
      "metadata": {
        "id": "pb_Ivq8RA-9A"
      }
    },
    {
      "cell_type": "code",
      "source": [
        "#Find the maximum and minimum in a list without using built-in max() or min().\n",
        "def find_max_min(numbers):\n",
        "    if not numbers:\n",
        "        return None, None\n",
        "    max_num = numbers[0]\n",
        "    min_num = numbers[0]\n",
        "    for num in numbers:\n",
        "        if num > max_num:\n",
        "            max_num = num\n",
        "        if num < min_num:\n",
        "            min_num = num\n",
        "    return max_num, min_num"
      ],
      "metadata": {
        "id": "I3f-P-hVBGH7"
      },
      "execution_count": null,
      "outputs": []
    },
    {
      "cell_type": "markdown",
      "source": [
        "question 8"
      ],
      "metadata": {
        "id": "38I-0d_0BdxQ"
      }
    },
    {
      "cell_type": "code",
      "source": [
        "#Remove all duplicates from a list.\n",
        "def remove_duplicates(lst):\n",
        "    return list(set(lst))"
      ],
      "metadata": {
        "id": "hXQkJJD_Bf5Q"
      },
      "execution_count": null,
      "outputs": []
    },
    {
      "cell_type": "markdown",
      "source": [
        "question 9\n",
        "aski smj nai aya hi"
      ],
      "metadata": {
        "id": "B_VNrF_yBvYT"
      }
    },
    {
      "cell_type": "code",
      "source": [
        "#Write a program that accepts a list of integers and returns only even numbers\n",
        "def filter_even_numbers(numbers):\n",
        "    return [num for num in numbers if num % 2 == 0]"
      ],
      "metadata": {
        "id": "d7e5VJJYByR2"
      },
      "execution_count": null,
      "outputs": []
    },
    {
      "cell_type": "markdown",
      "source": [
        "question 10"
      ],
      "metadata": {
        "id": "TBAZ2J90CHOn"
      }
    },
    {
      "cell_type": "code",
      "source": [
        "#Write a function that checks whether a given year is a leap year\n",
        "def is_leap_year(year):\n",
        "    if (year % 4 == 0 and year % 100 != 0) or (year % 400 == 0):\n",
        "        return True\n",
        "    return False"
      ],
      "metadata": {
        "id": "XQTfC9jKCJXM"
      },
      "execution_count": null,
      "outputs": []
    },
    {
      "cell_type": "markdown",
      "source": [
        "question 11"
      ],
      "metadata": {
        "id": "zj72X9_cCZRU"
      }
    },
    {
      "cell_type": "code",
      "source": [
        "#Count the frequency of each word in a string.\n",
        "def count_word_frequency(input_string):\n",
        "    words = input_string.split()\n",
        "    word_count = {}\n",
        "    # Count the frequency of each word\n",
        "    for word in words:\n",
        "        word = word.lower()\n",
        "        if word in word_count:\n",
        "            word_count[word] += 1\n",
        "        else:\n",
        "            word_count[word] = 1\n",
        "    return word_count"
      ],
      "metadata": {
        "id": "cgWvfcYyCbIG"
      },
      "execution_count": null,
      "outputs": []
    },
    {
      "cell_type": "markdown",
      "source": [
        "question 12"
      ],
      "metadata": {
        "id": "qxnOUfpjC3No"
      }
    },
    {
      "cell_type": "code",
      "source": [
        "#Generate the Fibonacci series up to n terms.\n",
        "def fibonacci_series(n):\n",
        "    fib_series = []\n",
        "    a, b = 0, 1\n",
        "    for _ in range(n):\n",
        "        fib_series.append(a)\n",
        "        a, b = b, a + b\n",
        "    return fib_series"
      ],
      "metadata": {
        "id": "v3y9Mz3JC5fg"
      },
      "execution_count": null,
      "outputs": []
    },
    {
      "cell_type": "markdown",
      "source": [
        "question 13"
      ],
      "metadata": {
        "id": "E4viE8icD4uw"
      }
    },
    {
      "cell_type": "code",
      "source": [
        "#Merge two dictionaries\n",
        "def merge_dicts(dict1, dict2):\n",
        "    merged_dict = dict1.copy()\n",
        "    merged_dict.update(dict2)\n",
        "    return merged_dict"
      ],
      "metadata": {
        "id": "pAE_y7f7D6VB"
      },
      "execution_count": null,
      "outputs": []
    },
    {
      "cell_type": "markdown",
      "source": [
        "question 14"
      ],
      "metadata": {
        "id": "6wvxyqhyEQ89"
      }
    },
    {
      "cell_type": "code",
      "source": [
        "#Flatten a nested list: [[1,2],[3,4]] → [1,2,3,4]\n",
        "def flatten(nested_list):\n",
        "    flat_list = []\n",
        "    for sublist in nested_list:\n",
        "        for item in sublist:\n",
        "            flat_list.append(item)\n",
        "    return flat_list"
      ],
      "metadata": {
        "id": "ICHzBzowETWx"
      },
      "execution_count": null,
      "outputs": []
    },
    {
      "cell_type": "markdown",
      "source": [
        "question 15\n",
        "help of Ai"
      ],
      "metadata": {
        "id": "ZoOJmsnjEco5"
      }
    },
    {
      "cell_type": "code",
      "source": [
        "#Write a list comprehension to get all numbers divisible by 3 and 5 from 1–100.\n",
        "divisible_by_3_and_5 = [num for num in range(1, 101) if num % 3 == 0 and num % 5 == 0]\n",
        "print(divisible_by_3_and_5)"
      ],
      "metadata": {
        "id": "RXmRgWK2EgCA"
      },
      "execution_count": null,
      "outputs": []
    },
    {
      "cell_type": "markdown",
      "source": [
        "question 16"
      ],
      "metadata": {
        "id": "AxJ5XilgFFH3"
      }
    },
    {
      "cell_type": "code",
      "source": [
        "#Given a sentence, capitalize the first letter of each word.\n",
        "def capitalize_first_letter(sentence):\n",
        "    words = sentence.split()\n",
        "    capitalized_words = [word.capitalize() for word in words]\n",
        "    capitalized_sentence = ' '.join(capitalized_words)\n",
        "    return capitalized_sentence"
      ],
      "metadata": {
        "id": "_5Ech-mmFHaS"
      },
      "execution_count": null,
      "outputs": []
    },
    {
      "cell_type": "markdown",
      "source": [
        "question 17\n",
        "ya meri pouch sa bahir h"
      ],
      "metadata": {
        "id": "YzqAWqwoFYL6"
      }
    },
    {
      "cell_type": "code",
      "source": [
        "#Sort a list of tuples based on the second element.\n",
        "def sort_tuples_by_second_element(tuples_list):\n",
        "    return sorted(tuples_list, key=lambda x: x[1])"
      ],
      "metadata": {
        "id": "k9n5WTzJFZ6S"
      },
      "execution_count": null,
      "outputs": []
    },
    {
      "cell_type": "markdown",
      "source": [
        "queation 18"
      ],
      "metadata": {
        "id": "2TWzwR5YFupv"
      }
    },
    {
      "cell_type": "code",
      "source": [
        "# Find the second largest number in a list\n",
        "def second_largest(numbers):\n",
        "    if len(numbers) < 2:\n",
        "        return None\n",
        "    first = second = float('-inf')\n",
        "    for number in numbers:\n",
        "        if number > first:\n",
        "            second = first\n",
        "            first = number\n",
        "        elif first > number > second:\n",
        "            second = number\n",
        "    return second if second != float('-inf') else None"
      ],
      "metadata": {
        "id": "Nn3NyPwuFzCa"
      },
      "execution_count": null,
      "outputs": []
    },
    {
      "cell_type": "markdown",
      "source": [
        "question 19"
      ],
      "metadata": {
        "id": "s-6Tfo-kGDuD"
      }
    },
    {
      "cell_type": "code",
      "source": [
        "#Create a simple calculator (add, subtract, multiply, divide) using functions.\n",
        "def add(a, s):\n",
        "    return a + s\n",
        "def subtract(a, s):\n",
        "    return a - s\n",
        "def multiply(a, s):\n",
        "    return a * s\n",
        "def divide(a , s):\n",
        "    if s == 0:\n",
        "        return \"Error! Division by zero.\"\n",
        "    return a / s"
      ],
      "metadata": {
        "id": "knRvCLqOGFbt"
      },
      "execution_count": null,
      "outputs": []
    },
    {
      "cell_type": "markdown",
      "source": [
        "question 20"
      ],
      "metadata": {
        "id": "ZxxKYZa7Gxrs"
      }
    },
    {
      "cell_type": "code",
      "source": [
        "#Take a list of numbers and return a new list with their squares using map().\n",
        "def square_numbers(numbers):\n",
        "    return list(map(lambda x: x ** 2, numbers))"
      ],
      "metadata": {
        "id": "cZztel54Gz9I"
      },
      "execution_count": null,
      "outputs": []
    }
  ]
}